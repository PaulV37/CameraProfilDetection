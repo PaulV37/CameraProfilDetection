{
 "cells": [
  {
   "cell_type": "markdown",
   "id": "dd8fb4d5",
   "metadata": {},
   "source": [
    "# CPD"
   ]
  },
  {
   "cell_type": "raw",
   "id": "181a59ae",
   "metadata": {},
   "source": [
    "Le but du projet est de filmer depuis une caméra un visage et de pouvoir utiliser le machine-learning afin d'identifier la personne en question. Le projet est à but personnel et sera utilisé dans un premier temps a partir d'une webcam puis dans un second temps d'une caméra externe.\n",
    "\n",
    "Etapes:\n",
    "- Comparer a chaque frame de webcam l'image avec le jeu de données\n",
    "- Si la l'image est un visage, alors il est entourer d'un carrer\n",
    "- Charger un grand jeu de données de plusieurs visages de différentes plateformes (Insta, Facebook, LinkedIn, ...)\n",
    "- Comparer les visages et determiner si le visage est dans le jeu de données\n",
    "- Si c'est le cas, afficher son nom au dessus de l'encadré\n",
    "- Une fois le tout fonctionnel, switcher sur une caméra externe"
   ]
  },
  {
   "cell_type": "code",
   "execution_count": 49,
   "id": "4354d46b",
   "metadata": {},
   "outputs": [],
   "source": [
    "# Bibliothèques necessaires\n",
    "import cv2 \n",
    "import face_recognition\n",
    "import pandas as pd\n",
    "import numpy as np\n",
    "from matplotlib import pyplot"
   ]
  },
  {
   "cell_type": "code",
   "execution_count": 50,
   "id": "64a56633",
   "metadata": {},
   "outputs": [],
   "source": [
    "# Paramètres\n",
    "vid = cv2.VideoCapture(0) \n",
    "face_locations = []\n",
    "face_encodings = []\n",
    "\n",
    "# Enregistrement de personnes identifiable\n",
    "paul_image = face_recognition.load_image_file(\"Documents/photo_paul.jpg\")\n",
    "amoka_image = face_recognition.load_image_file(\"Documents/photo_amoka.jpg\")\n",
    "romain_image = face_recognition.load_image_file(\"Documents/photo_romain.jpg\")\n",
    "\n",
    "paul_face_encoding = face_recognition.face_encodings(paul_image)[0]\n",
    "amoka_face_encoding = face_recognition.face_encodings(amoka_image)[0]\n",
    "romain_face_encoding = face_recognition.face_encodings(romain_image)[0]\n",
    "\n",
    "\n",
    "known_face_encodings = [paul_face_encoding, amoka_face_encoding, romain_face_encoding]\n",
    "known_face_names = [\"Paul\", \"Amoka\", \"Romain\"]"
   ]
  },
  {
   "cell_type": "code",
   "execution_count": 51,
   "id": "cf3c1276",
   "metadata": {},
   "outputs": [],
   "source": [
    "# Fonction qui défini le nom d'une personne si elle est reconnu\n",
    "def person_name(face_encodings, face_names):\n",
    "    for face_encoding in face_encodings: \n",
    "        name = \"Unknown\"\n",
    "        matches = face_recognition.compare_faces(known_face_encodings, face_encoding)\n",
    "        face_distances = face_recognition.face_distance(known_face_encodings, face_encoding)\n",
    "        best_match_index = np.argmin(face_distances)\n",
    "        if matches[best_match_index]:\n",
    "            name = known_face_names[best_match_index]\n",
    "        face_names.append(name)\n",
    "    return face_names"
   ]
  },
  {
   "cell_type": "code",
   "execution_count": 52,
   "id": "eff00bb4",
   "metadata": {},
   "outputs": [],
   "source": [
    "#     # Enregistre la frame et l'affiche\n",
    "def screen_video():\n",
    "    gray_frame = cv2.cvtColor(frame, cv2.COLOR_BGR2GRAY)\n",
    "    pyplot.imshow(gray_frame, cmap='gray')\n",
    "    pyplot.axis('off')\n",
    "    pyplot.show()"
   ]
  },
  {
   "cell_type": "code",
   "execution_count": 53,
   "id": "9c3ab771",
   "metadata": {},
   "outputs": [],
   "source": [
    "# Afficher les FPS\n",
    "import time\n",
    "\n",
    "def show_fps(frame, prev_frame_time):\n",
    "    specific_frame = []\n",
    "    font = cv2.FONT_HERSHEY_SIMPLEX\n",
    "    new_frame_time = time.time()\n",
    "    fps = 1/(new_frame_time-prev_frame_time) \n",
    "    prev_frame_time = new_frame_time \n",
    "    fps = int(fps)\n",
    "    fps = str(fps)\n",
    "    cv2.putText(frame, fps, (10, 30), font, 1, (255, 0, 0), 2, cv2.LINE_AA)\n",
    "    return prev_frame_time"
   ]
  },
  {
   "cell_type": "code",
   "execution_count": 54,
   "id": "e43fcc0f",
   "metadata": {},
   "outputs": [],
   "source": [
    "def face_detection():\n",
    "    # Fabrique une plus petite frame pour booster les performances\n",
    "    face_names = []\n",
    "    small_frame = cv2.resize(frame, (0, 0), fx=0.25, fy=0.25)\n",
    "    rgb_small_frame = small_frame[:, :, ::-1]\n",
    "\n",
    "    # Detecte et ajoute a une liste les visages sur la \"petite\" frame\n",
    "    face_locations = face_recognition.face_locations(rgb_small_frame)    \n",
    "    face_encodings = face_recognition.face_encodings(rgb_small_frame, face_locations)\n",
    "    \n",
    "    # Charger la liste\n",
    "    face_names = person_name(face_encodings, face_names)\n",
    "    \n",
    "    # pour chaque visage detecté\n",
    "    for (top, right, bottom, left), name in zip(face_locations, face_names):\n",
    "        top *= 4\n",
    "        right *= 4\n",
    "        bottom *= 4\n",
    "        left *= 4\n",
    "\n",
    "        # Carré autour du visage\n",
    "        cv2.rectangle(frame, (left, top), (right, bottom), (0, 0, 255), 2)\n",
    "\n",
    "        # Ajoute le nom\n",
    "        cv2.rectangle(frame, (left, bottom - 35), (right, bottom), (0, 0, 255), cv2.FILLED)\n",
    "        font = cv2.FONT_HERSHEY_DUPLEX\n",
    "        cv2.putText(frame, name, (left + 6, bottom - 6), font, 1.0, (255, 255, 255), 1)"
   ]
  },
  {
   "cell_type": "code",
   "execution_count": 55,
   "id": "18cee11a",
   "metadata": {
    "scrolled": false
   },
   "outputs": [],
   "source": [
    "prev_frame_time = 0\n",
    "\n",
    "# Boucle vidéo\n",
    "while(True): \n",
    "    ret, frame = vid.read() \n",
    "    face_detection()\n",
    "#     prev_frame_time = show_fps(frame, prev_frame_time)\n",
    "    cv2.imshow('frame', frame)\n",
    "#     screen_video()\n",
    "    if cv2.waitKey(1) & 0xFF == ord('q'):        \n",
    "        break\n",
    "\n",
    "vid.release() \n",
    "cv2.destroyAllWindows()"
   ]
  }
 ],
 "metadata": {
  "kernelspec": {
   "display_name": "Python 3 (ipykernel)",
   "language": "python",
   "name": "python3"
  },
  "language_info": {
   "codemirror_mode": {
    "name": "ipython",
    "version": 3
   },
   "file_extension": ".py",
   "mimetype": "text/x-python",
   "name": "python",
   "nbconvert_exporter": "python",
   "pygments_lexer": "ipython3",
   "version": "3.9.7"
  }
 },
 "nbformat": 4,
 "nbformat_minor": 5
}
